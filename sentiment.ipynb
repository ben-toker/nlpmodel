{
 "cells": [
  {
   "cell_type": "markdown",
   "id": "d82dd911-1ceb-4067-bb88-9b272f3620aa",
   "metadata": {},
   "source": [
    "Make sure to run this cell as it imports everything for the rest of the notebook to function."
   ]
  },
  {
   "cell_type": "code",
   "execution_count": 2,
   "id": "517cb3a7-602d-4483-8d97-62817c578d87",
   "metadata": {},
   "outputs": [],
   "source": [
    "from fastai.text.all import *\n",
    "from fastai.learner import *"
   ]
  },
  {
   "cell_type": "markdown",
   "id": "ce54dfe5-da5e-43b6-b747-b3f2ee5ad728",
   "metadata": {},
   "source": [
    "Now we set up a data loader which should hopefully take some dataset and format it in a way that allows us to train our model on it."
   ]
  },
  {
   "cell_type": "code",
   "execution_count": 3,
   "id": "2f81af99-f360-40ae-836a-b79723080aac",
   "metadata": {},
   "outputs": [],
   "source": [
    "dls = TextDataLoaders.from_folder(untar_data(URLs.IMDB), valid='test')"
   ]
  },
  {
   "cell_type": "markdown",
   "id": "42564518-ed1c-4cf5-9505-7bf23043421b",
   "metadata": {},
   "source": [
    "Next we set up the model using the data loader we created aboce. We're using AWD_LSTM as our model."
   ]
  },
  {
   "cell_type": "code",
   "execution_count": 4,
   "id": "74232643-8247-4aa6-8003-ed335f095669",
   "metadata": {},
   "outputs": [],
   "source": [
    "learn = text_classifier_learner(dls, AWD_LSTM, drop_mult=0.5, metrics=accuracy)"
   ]
  },
  {
   "cell_type": "markdown",
   "id": "ff36322b",
   "metadata": {},
   "source": [
    "If instead we want to load a previously trained model, we can run this cell instead. If not then ignore the cell below. "
   ]
  },
  {
   "cell_type": "code",
   "execution_count": 6,
   "id": "e8510897",
   "metadata": {},
   "outputs": [],
   "source": [
    "learn = load_learner('frontend\\\\nonReact\\\\Models\\\\Sentiment_Model_2.2')"
   ]
  },
  {
   "cell_type": "markdown",
   "id": "5dbdb19e-b6c1-40ff-bd62-6edf687f8e66",
   "metadata": {},
   "source": [
    "Now we just need to train the model!"
   ]
  },
  {
   "cell_type": "code",
   "execution_count": 26,
   "id": "37872c3e-12a1-4dec-8bd5-f05ba5013bb5",
   "metadata": {},
   "outputs": [
    {
     "ename": "NameError",
     "evalue": "name 'learn' is not defined",
     "output_type": "error",
     "traceback": [
      "\u001b[1;31m---------------------------------------------------------------------------\u001b[0m",
      "\u001b[1;31mNameError\u001b[0m                                 Traceback (most recent call last)",
      "Cell \u001b[1;32mIn[26], line 1\u001b[0m\n\u001b[1;32m----> 1\u001b[0m learn\u001b[38;5;241m.\u001b[39mfine_tune(\u001b[38;5;241m1\u001b[39m, \u001b[38;5;241m2e-2\u001b[39m)\n",
      "\u001b[1;31mNameError\u001b[0m: name 'learn' is not defined"
     ]
    }
   ],
   "source": [
    "learn.fine_tune(1, 2e-2)"
   ]
  },
  {
   "cell_type": "markdown",
   "id": "05047773-705a-4af6-9dba-391004390203",
   "metadata": {},
   "source": [
    "Since it takes a while to train a model, we will now save the model."
   ]
  },
  {
   "cell_type": "code",
   "execution_count": 12,
   "id": "b440330b-efbb-4625-be8c-483b71e4376c",
   "metadata": {},
   "outputs": [
    {
     "ename": "RuntimeError",
     "evalue": "Parent directory /Users/jed./Desktop/\"batman place of residence (batcave)\"/Project_ideas/WinterTerm2024-NLPModel/Models does not exist.",
     "output_type": "error",
     "traceback": [
      "\u001b[0;31m---------------------------------------------------------------------------\u001b[0m",
      "\u001b[0;31mRuntimeError\u001b[0m                              Traceback (most recent call last)",
      "\u001b[1;32m/Users/jed./Desktop/batman place of residence (batcave)/Project_ideas/WinterTerm2024-NLPModel/Training.ipynb Cell 11\u001b[0m line \u001b[0;36m1\n\u001b[0;32m----> <a href='vscode-notebook-cell:/Users/jed./Desktop/batman%20place%20of%20residence%20%28batcave%29/Project_ideas/WinterTerm2024-NLPModel/Training.ipynb#X13sZmlsZQ%3D%3D?line=0'>1</a>\u001b[0m learn\u001b[39m.\u001b[39;49mexport(\u001b[39m'\u001b[39;49m\u001b[39m/Users/jed./Desktop/\u001b[39;49m\u001b[39m\"\u001b[39;49m\u001b[39mbatman place of residence (batcave)\u001b[39;49m\u001b[39m\"\u001b[39;49m\u001b[39m/Project_ideas/WinterTerm2024-NLPModel/Models/Sentiment_Model_test\u001b[39;49m\u001b[39m'\u001b[39;49m)\n",
      "File \u001b[0;32m~/Desktop/batman place of residence (batcave)/.venv/lib/python3.9/site-packages/fastai/learner.py:436\u001b[0m, in \u001b[0;36mexport\u001b[0;34m(self, fname, pickle_module, pickle_protocol)\u001b[0m\n\u001b[1;32m    433\u001b[0m \u001b[39mwith\u001b[39;00m warnings\u001b[39m.\u001b[39mcatch_warnings():\n\u001b[1;32m    434\u001b[0m     \u001b[39m#To avoid the warning that come from PyTorch about model not being checked\u001b[39;00m\n\u001b[1;32m    435\u001b[0m     warnings\u001b[39m.\u001b[39msimplefilter(\u001b[39m\"\u001b[39m\u001b[39mignore\u001b[39m\u001b[39m\"\u001b[39m)\n\u001b[0;32m--> 436\u001b[0m     torch\u001b[39m.\u001b[39;49msave(\u001b[39mself\u001b[39;49m, \u001b[39mself\u001b[39;49m\u001b[39m.\u001b[39;49mpath\u001b[39m/\u001b[39;49mfname, pickle_module\u001b[39m=\u001b[39;49mpickle_module, pickle_protocol\u001b[39m=\u001b[39;49mpickle_protocol)\n\u001b[1;32m    437\u001b[0m \u001b[39mself\u001b[39m\u001b[39m.\u001b[39mcreate_opt()\n\u001b[1;32m    438\u001b[0m \u001b[39mif\u001b[39;00m state \u001b[39mis\u001b[39;00m \u001b[39mnot\u001b[39;00m \u001b[39mNone\u001b[39;00m: \u001b[39mself\u001b[39m\u001b[39m.\u001b[39mopt\u001b[39m.\u001b[39mload_state_dict(state)\n",
      "File \u001b[0;32m~/Desktop/batman place of residence (batcave)/.venv/lib/python3.9/site-packages/torch/serialization.py:618\u001b[0m, in \u001b[0;36msave\u001b[0;34m(obj, f, pickle_module, pickle_protocol, _use_new_zipfile_serialization, _disable_byteorder_record)\u001b[0m\n\u001b[1;32m    615\u001b[0m _check_save_filelike(f)\n\u001b[1;32m    617\u001b[0m \u001b[39mif\u001b[39;00m _use_new_zipfile_serialization:\n\u001b[0;32m--> 618\u001b[0m     \u001b[39mwith\u001b[39;00m _open_zipfile_writer(f) \u001b[39mas\u001b[39;00m opened_zipfile:\n\u001b[1;32m    619\u001b[0m         _save(obj, opened_zipfile, pickle_module, pickle_protocol, _disable_byteorder_record)\n\u001b[1;32m    620\u001b[0m         \u001b[39mreturn\u001b[39;00m\n",
      "File \u001b[0;32m~/Desktop/batman place of residence (batcave)/.venv/lib/python3.9/site-packages/torch/serialization.py:492\u001b[0m, in \u001b[0;36m_open_zipfile_writer\u001b[0;34m(name_or_buffer)\u001b[0m\n\u001b[1;32m    490\u001b[0m \u001b[39melse\u001b[39;00m:\n\u001b[1;32m    491\u001b[0m     container \u001b[39m=\u001b[39m _open_zipfile_writer_buffer\n\u001b[0;32m--> 492\u001b[0m \u001b[39mreturn\u001b[39;00m container(name_or_buffer)\n",
      "File \u001b[0;32m~/Desktop/batman place of residence (batcave)/.venv/lib/python3.9/site-packages/torch/serialization.py:463\u001b[0m, in \u001b[0;36m_open_zipfile_writer_file.__init__\u001b[0;34m(self, name)\u001b[0m\n\u001b[1;32m    461\u001b[0m     \u001b[39msuper\u001b[39m()\u001b[39m.\u001b[39m\u001b[39m__init__\u001b[39m(torch\u001b[39m.\u001b[39m_C\u001b[39m.\u001b[39mPyTorchFileWriter(\u001b[39mself\u001b[39m\u001b[39m.\u001b[39mfile_stream))\n\u001b[1;32m    462\u001b[0m \u001b[39melse\u001b[39;00m:\n\u001b[0;32m--> 463\u001b[0m     \u001b[39msuper\u001b[39m()\u001b[39m.\u001b[39m\u001b[39m__init__\u001b[39m(torch\u001b[39m.\u001b[39;49m_C\u001b[39m.\u001b[39;49mPyTorchFileWriter(\u001b[39mself\u001b[39;49m\u001b[39m.\u001b[39;49mname))\n",
      "\u001b[0;31mRuntimeError\u001b[0m: Parent directory /Users/jed./Desktop/\"batman place of residence (batcave)\"/Project_ideas/WinterTerm2024-NLPModel/Models does not exist."
     ]
    }
   ],
   "source": [
    "learn.export('/Users/jed./Desktop/\"batman place of residence (batcave)\"/Project_ideas/WinterTerm2024-NLPModel/Models/Sentiment_Model_test')"
   ]
  },
  {
   "cell_type": "markdown",
   "id": "59a9a348-0052-4cdd-9226-c5056d863654",
   "metadata": {},
   "source": [
    "Finally we can test our AI."
   ]
  },
  {
   "cell_type": "code",
   "execution_count": 1,
   "id": "e1ca5714-0372-4478-a5fc-71fa9b8e66f8",
   "metadata": {},
   "outputs": [
    {
     "ename": "NameError",
     "evalue": "name 'learn' is not defined",
     "output_type": "error",
     "traceback": [
      "\u001b[1;31m---------------------------------------------------------------------------\u001b[0m",
      "\u001b[1;31mNameError\u001b[0m                                 Traceback (most recent call last)",
      "Cell \u001b[1;32mIn[1], line 1\u001b[0m\n\u001b[1;32m----> 1\u001b[0m learn\u001b[38;5;241m.\u001b[39mpredict(\u001b[38;5;124m\"\u001b[39m\u001b[38;5;124mWhat a cool idea!\u001b[39m\u001b[38;5;124m\"\u001b[39m)\n",
      "\u001b[1;31mNameError\u001b[0m: name 'learn' is not defined"
     ]
    }
   ],
   "source": [
    "learn.predict(\"What a cool idea!\") "
   ]
  }
 ],
 "metadata": {
  "kernelspec": {
   "display_name": "Python 3 (ipykernel)",
   "language": "python",
   "name": "python3"
  },
  "language_info": {
   "codemirror_mode": {
    "name": "ipython",
    "version": 3
   },
   "file_extension": ".py",
   "mimetype": "text/x-python",
   "name": "python",
   "nbconvert_exporter": "python",
   "pygments_lexer": "ipython3",
   "version": "3.11.5"
  }
 },
 "nbformat": 4,
 "nbformat_minor": 5
}
